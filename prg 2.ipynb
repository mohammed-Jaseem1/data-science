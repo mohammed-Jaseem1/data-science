{
 "cells": [
  {
   "cell_type": "code",
   "execution_count": 12,
   "id": "508b3e46",
   "metadata": {
    "scrolled": true
   },
   "outputs": [
    {
     "name": "stdout",
     "output_type": "stream",
     "text": [
      "Matrix operation\n",
      "matrix A:\n",
      "[[1 2]\n",
      " [3 4]]\n",
      "matrix B:\n",
      "[[4 6]\n",
      " [7 8]]\n",
      "matrix addintion:\n",
      "[[ 5  8]\n",
      " [10 12]]\n",
      "matrix substration:\n",
      "[[-3 -4]\n",
      " [-4 -4]]\n",
      "matrix dot product:\n",
      "[[ 4 12]\n",
      " [21 32]]\n",
      "matrix transpose:\n",
      "[[1 3]\n",
      " [2 4]]\n"
     ]
    }
   ],
   "source": [
    "import numpy as np;\n",
    "\n",
    "A=np.array([[1,2],[3,4]])\n",
    "B=np.array([[4,6],[7,8]])\n",
    "\n",
    "print(\"Matrix operation\")\n",
    "print(f\"matrix A:\\n{A}\")\n",
    "print(f\"matrix B:\\n{B}\")\n",
    "print(f\"matrix addintion:\\n{A+B}\")\n",
    "print(f\"matrix substration:\\n{A-B}\")\n",
    "print(f\"matrix dot product:\\n{A*B}\")\n",
    "print(f\"matrix transpose:\\n{A.T}\")"
   ]
  },
  {
   "cell_type": "code",
   "execution_count": null,
   "id": "d2d66ccc",
   "metadata": {},
   "outputs": [],
   "source": []
  }
 ],
 "metadata": {
  "kernelspec": {
   "display_name": "Python 3 (ipykernel)",
   "language": "python",
   "name": "python3"
  },
  "language_info": {
   "codemirror_mode": {
    "name": "ipython",
    "version": 3
   },
   "file_extension": ".py",
   "mimetype": "text/x-python",
   "name": "python",
   "nbconvert_exporter": "python",
   "pygments_lexer": "ipython3",
   "version": "3.11.5"
  }
 },
 "nbformat": 4,
 "nbformat_minor": 5
}
