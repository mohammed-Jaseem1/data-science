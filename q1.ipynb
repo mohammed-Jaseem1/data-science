{
 "cells": [
  {
   "cell_type": "code",
   "execution_count": 2,
   "id": "66cc50e3",
   "metadata": {},
   "outputs": [
    {
     "name": "stdout",
     "output_type": "stream",
     "text": [
      "10\n"
     ]
    }
   ],
   "source": [
    "l=[5,6,7,10]\n",
    "max=l[0]\n",
    "for  i in l:\n",
    "    if i>max:\n",
    "        max=i\n",
    "print(max)"
   ]
  },
  {
   "cell_type": "code",
   "execution_count": 1,
   "id": "0bd016d7",
   "metadata": {},
   "outputs": [
    {
     "name": "stdout",
     "output_type": "stream",
     "text": [
      "10\n"
     ]
    }
   ],
   "source": [
    "l=[5,6,10,9]\n",
    "big=max(l)\n",
    "print(big)"
   ]
  },
  {
   "cell_type": "code",
   "execution_count": 2,
   "id": "7a301af1",
   "metadata": {},
   "outputs": [
    {
     "name": "stdout",
     "output_type": "stream",
     "text": [
      "The largest number is: 99\n"
     ]
    }
   ],
   "source": [
    "def find_largest_number(numbers):\n",
    "    if not numbers:\n",
    "        return None  \n",
    "    largest = numbers[0]\n",
    "    for number in numbers:\n",
    "        if number > largest:\n",
    "            largest = number\n",
    "    return largest\n",
    "my_list = [10, 45, 3, 99, 67, 23]\n",
    "print(\"The largest number is:\", find_largest_number(my_list))\n"
   ]
  },
  {
   "cell_type": "code",
   "execution_count": 9,
   "id": "8f75e7f8",
   "metadata": {},
   "outputs": [
    {
     "name": "stdout",
     "output_type": "stream",
     "text": [
      "[2, 3, 4]\n"
     ]
    }
   ],
   "source": [
    "lst=[2,2,3,4]\n",
    "result = []\n",
    "for item in lst:\n",
    "    if item not in result:        \n",
    "        result.append(item)\n",
    "print(result)\n",
    "\n",
    "\n"
   ]
  },
  {
   "cell_type": "code",
   "execution_count": 10,
   "id": "6b80d875",
   "metadata": {},
   "outputs": [
    {
     "name": "stdout",
     "output_type": "stream",
     "text": [
      "{'a': 1, 'b': 2, 'c': 3}\n"
     ]
    }
   ],
   "source": [
    "t = (('a', 1), ('b', 2), ('c', 3))\n",
    "d = dict(t)\n",
    "print(d)\n"
   ]
  },
  {
   "cell_type": "code",
   "execution_count": 11,
   "id": "1bebe8a3",
   "metadata": {},
   "outputs": [
    {
     "name": "stdout",
     "output_type": "stream",
     "text": [
      "{1: 'linto', 2: 'aswin', 3: 'roshan', 4: 'jovina', 5: 'Aami', 6: 'ayisha'}\n"
     ]
    }
   ],
   "source": [
    "d1={1:\"linto\",2:\"aswin\",3:\"roshan\"}\n",
    "d2={4:\"jovina\",5:\"Aami\",6:\"ayisha\"}\n",
    "r1 = d1 | d2\n",
    "print(r1)"
   ]
  },
  {
   "cell_type": "code",
   "execution_count": 12,
   "id": "0996c6af",
   "metadata": {},
   "outputs": [
    {
     "name": "stdout",
     "output_type": "stream",
     "text": [
      "False\n"
     ]
    }
   ],
   "source": [
    "l1=[1,2,3,4,5,6]\n",
    "l2=[7,8,9,10]\n",
    "c=False\n",
    "for i in l1:\n",
    "    if i in l2:\n",
    "        c=True\n",
    "        break\n",
    "print(c)"
   ]
  },
  {
   "cell_type": "code",
   "execution_count": null,
   "id": "dc543f49",
   "metadata": {},
   "outputs": [],
   "source": []
  }
 ],
 "metadata": {
  "kernelspec": {
   "display_name": "Python 3 (ipykernel)",
   "language": "python",
   "name": "python3"
  },
  "language_info": {
   "codemirror_mode": {
    "name": "ipython",
    "version": 3
   },
   "file_extension": ".py",
   "mimetype": "text/x-python",
   "name": "python",
   "nbconvert_exporter": "python",
   "pygments_lexer": "ipython3",
   "version": "3.11.5"
  }
 },
 "nbformat": 4,
 "nbformat_minor": 5
}
